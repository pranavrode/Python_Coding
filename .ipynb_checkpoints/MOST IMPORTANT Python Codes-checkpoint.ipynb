{
 "cells": [
  {
   "cell_type": "markdown",
   "id": "e4c904f9",
   "metadata": {},
   "source": [
    "## Different Ways to reverse a string in Python"
   ]
  },
  {
   "cell_type": "code",
   "execution_count": 1,
   "id": "c771416c",
   "metadata": {},
   "outputs": [
    {
     "name": "stdout",
     "output_type": "stream",
     "text": [
      "ecneics\n"
     ]
    }
   ],
   "source": [
    "#1 - Using slicing\n",
    "s = 'science'\n",
    "rev = s[::-1]\n",
    "\n",
    "print(rev)"
   ]
  },
  {
   "cell_type": "code",
   "execution_count": 2,
   "id": "01d703db",
   "metadata": {},
   "outputs": [
    {
     "name": "stdout",
     "output_type": "stream",
     "text": [
      "ecneics\n"
     ]
    }
   ],
   "source": [
    "#2 - Using a for loop and concatenation:\n",
    "s = 'science'\n",
    "rev = ''\n",
    "for char in s:\n",
    "    rev = char + rev\n",
    "\n",
    "print(rev)"
   ]
  },
  {
   "cell_type": "code",
   "execution_count": 3,
   "id": "eff988a7",
   "metadata": {},
   "outputs": [
    {
     "name": "stdout",
     "output_type": "stream",
     "text": [
      "ecneics\n"
     ]
    }
   ],
   "source": [
    "#3 - Using a while loop and slicing:\n",
    "\n",
    "s = 'science'\n",
    "rev = ''\n",
    "index = len(s) - 1\n",
    "while index >= 0:\n",
    "    rev += s[index]\n",
    "    index -= 1\n",
    "\n",
    "print(rev)"
   ]
  },
  {
   "cell_type": "code",
   "execution_count": 4,
   "id": "1d8a0930",
   "metadata": {},
   "outputs": [
    {
     "name": "stdout",
     "output_type": "stream",
     "text": [
      "ecneics\n"
     ]
    }
   ],
   "source": [
    "#4 - Using recursion:\n",
    "\n",
    "def reverse_string(s):\n",
    "    if len(s) == 0:\n",
    "        return s\n",
    "    else:\n",
    "        return reverse_string(s[1:]) + s[0]\n",
    "\n",
    "s = 'science'\n",
    "rev = reverse_string(s)\n",
    "\n",
    "print(rev)"
   ]
  },
  {
   "cell_type": "code",
   "execution_count": 5,
   "id": "d59b8f6f",
   "metadata": {},
   "outputs": [
    {
     "name": "stdout",
     "output_type": "stream",
     "text": [
      "ecneics\n"
     ]
    }
   ],
   "source": [
    "#5 - Using a list comprehension, range(len(s)-1, -1, -1) and join():\n",
    "s = 'science'\n",
    "rev = ''.join([s[i] for i in range(len(s)-1, -1, -1)])\n",
    "\n",
    "print(rev)"
   ]
  },
  {
   "cell_type": "code",
   "execution_count": 6,
   "id": "7aae58ff",
   "metadata": {},
   "outputs": [
    {
     "name": "stdout",
     "output_type": "stream",
     "text": [
      "ecneics\n"
     ]
    }
   ],
   "source": [
    "#6 - Using for loop, range(len(s)-1, -1, -1) and basic concatenation \n",
    "s = 'science'\n",
    "rev = ''\n",
    "for i in range(len(s)-1, -1, -1):\n",
    "    rev += s[i]\n",
    "\n",
    "print(rev)"
   ]
  },
  {
   "cell_type": "markdown",
   "id": "ca217e57",
   "metadata": {},
   "source": [
    "## Sort list/list without any built function or library"
   ]
  },
  {
   "cell_type": "markdown",
   "id": "1bb4ec7a",
   "metadata": {},
   "source": [
    "#### Using Bubble Sort"
   ]
  },
  {
   "cell_type": "code",
   "execution_count": 7,
   "id": "86e9d81f",
   "metadata": {},
   "outputs": [
    {
     "name": "stdout",
     "output_type": "stream",
     "text": [
      "Sorted list: [1, 2, 4, 5, 11, 12, 23]\n"
     ]
    }
   ],
   "source": [
    "def bubble_sort(arr):\n",
    "    n = len(arr)\n",
    "    for i in range(n):\n",
    "        for j in range(0, n-i-1):\n",
    "            if arr[j] > arr[j+1]:\n",
    "                arr[j], arr[j+1] = arr[j+1], arr[j]\n",
    "    return arr\n",
    "\n",
    "L = [1, 2, 5, 4, 11, 12, 23]\n",
    "sorted_L = bubble_sort(L)\n",
    "print(\"Sorted list:\", sorted_L)\n"
   ]
  },
  {
   "cell_type": "markdown",
   "id": "53fd637a",
   "metadata": {},
   "source": [
    "#### Logic reference for i and j values for bubble sort:"
   ]
  },
  {
   "cell_type": "code",
   "execution_count": 8,
   "id": "b52a8c9b",
   "metadata": {},
   "outputs": [
    {
     "name": "stdout",
     "output_type": "stream",
     "text": [
      "Length of arr(n)= 7\n",
      "--------\n",
      "i= 0\n",
      "0 1 2 3 4 5 \n",
      "--------\n",
      "i= 1\n",
      "0 1 2 3 4 \n",
      "--------\n",
      "i= 2\n",
      "0 1 2 3 \n",
      "--------\n",
      "i= 3\n",
      "0 1 2 \n",
      "--------\n",
      "i= 4\n",
      "0 1 \n",
      "--------\n",
      "i= 5\n",
      "0 \n",
      "--------\n",
      "i= 6\n",
      "\n"
     ]
    }
   ],
   "source": [
    "L = [1, 2, 5, 4, 11, 12, 23]\n",
    "def j_values(arr):\n",
    "    n = len(arr)\n",
    "    print(\"Length of arr(n)=\", n)\n",
    "    for i in range(n):\n",
    "        print(\"--------\")\n",
    "        print(\"i=\",i)\n",
    "        for j in range(0, n-i-1):\n",
    "            print(j, end=\" \")\n",
    "        print()\n",
    "    \n",
    "            \n",
    "j_values(L)"
   ]
  },
  {
   "cell_type": "markdown",
   "id": "3e7643ad",
   "metadata": {},
   "source": [
    "#### Using Selection Sort"
   ]
  },
  {
   "cell_type": "code",
   "execution_count": 9,
   "id": "e1dde8f9",
   "metadata": {},
   "outputs": [
    {
     "name": "stdout",
     "output_type": "stream",
     "text": [
      "Sorted list: [1, 2, 4, 5, 11, 12, 23]\n"
     ]
    }
   ],
   "source": [
    "def selection_sort(arr):\n",
    "    n = len(arr)\n",
    "    for i in range(n):\n",
    "        min_idx = i\n",
    "        for j in range(i+1, n):\n",
    "            if arr[j] < arr[min_idx]:\n",
    "                min_idx = j\n",
    "        arr[i], arr[min_idx] = arr[min_idx], arr[i]\n",
    "    return arr\n",
    "\n",
    "L = [1, 2, 5, 4, 11, 12, 23]\n",
    "sorted_L = selection_sort(L)\n",
    "print(\"Sorted list:\", sorted_L)\n"
   ]
  },
  {
   "cell_type": "markdown",
   "id": "cde9a1ad",
   "metadata": {},
   "source": [
    "## Find  MAX Number Without any library or built in function"
   ]
  },
  {
   "cell_type": "code",
   "execution_count": 10,
   "id": "9c05307c",
   "metadata": {},
   "outputs": [
    {
     "name": "stdout",
     "output_type": "stream",
     "text": [
      "9\n"
     ]
    }
   ],
   "source": [
    "arr = [1,2,3,9,5,6]\n",
    "\n",
    "max= arr[0]  # we consider 0th is max value\n",
    "n=len(arr)\n",
    "\n",
    "for i in range(1,n):\n",
    "    if arr[i]>max:  # i checking with  oth value \n",
    "        max=arr[i]  # if i is greater then store in max\n",
    "print(max)"
   ]
  },
  {
   "cell_type": "markdown",
   "id": "5739779a",
   "metadata": {},
   "source": [
    "## Find MIN Number Without any library or built in function"
   ]
  },
  {
   "cell_type": "code",
   "execution_count": 11,
   "id": "01182c72",
   "metadata": {},
   "outputs": [
    {
     "name": "stdout",
     "output_type": "stream",
     "text": [
      "1\n"
     ]
    }
   ],
   "source": [
    "arr = [1,2,3,9,5,6]\n",
    "\n",
    "min= arr[0]  # we consider 0th is max value\n",
    "n=len(arr)\n",
    "\n",
    "for i in range(1,n):\n",
    "    if arr[i]<min:  # i checking with  oth value \n",
    "        min=arr[i]  # if i is greater then store in max\n",
    "print(min)"
   ]
  },
  {
   "cell_type": "markdown",
   "id": "ad7af38d",
   "metadata": {},
   "source": [
    "## Find 2nd (second) highest number in list/array"
   ]
  },
  {
   "cell_type": "code",
   "execution_count": 12,
   "id": "5a311a45",
   "metadata": {},
   "outputs": [
    {
     "name": "stdout",
     "output_type": "stream",
     "text": [
      "Second highest element: 4\n"
     ]
    }
   ],
   "source": [
    "def second_highest(arr):\n",
    "    # Ensure array has at least two elements\n",
    "    if len(arr) < 2:\n",
    "        return \"Array should have at least two elements\"\n",
    "    \n",
    "    # Initialize first and second highest\n",
    "    first_max = second_max = float('-inf')\n",
    "    \n",
    "    # Traverse through the array\n",
    "    for num in arr:\n",
    "        # Update first and second highest accordingly\n",
    "        if num > first_max:\n",
    "            second_max = first_max\n",
    "            first_max = num\n",
    "        elif num > second_max and num != first_max:\n",
    "            second_max = num\n",
    "    \n",
    "    # Check if there is no second highest element\n",
    "    if second_max == float('-inf'):\n",
    "        return \"No second highest element found\"\n",
    "    \n",
    "    return second_max\n",
    "\n",
    "# Test the function\n",
    "arr = [3, 1, 4, 4, 2, 3, 2, 4, 4, 5, 4, 4]\n",
    "print(\"Second highest element:\", second_highest(arr))\n"
   ]
  },
  {
   "cell_type": "markdown",
   "id": "d48fc1cc",
   "metadata": {},
   "source": [
    "## Prime number check"
   ]
  },
  {
   "cell_type": "code",
   "execution_count": 13,
   "id": "76663531",
   "metadata": {},
   "outputs": [
    {
     "name": "stdout",
     "output_type": "stream",
     "text": [
      "False\n",
      "True\n"
     ]
    }
   ],
   "source": [
    "# Basic Approach\n",
    "\n",
    "def is_prime_basic(n):\n",
    "    if n <= 1:\n",
    "        return False\n",
    "    for i in range(2, n):\n",
    "        if n % i == 0:\n",
    "            return False\n",
    "    return True\n",
    "\n",
    "print(is_prime_basic(9))\n",
    "print(is_prime_basic(23))"
   ]
  },
  {
   "cell_type": "code",
   "execution_count": 14,
   "id": "652dbf1d",
   "metadata": {},
   "outputs": [
    {
     "name": "stdout",
     "output_type": "stream",
     "text": [
      "False\n",
      "True\n"
     ]
    }
   ],
   "source": [
    "def is_prime_optimized1(n):\n",
    "    if n <= 1:\n",
    "        return False\n",
    "    for i in range(2, int(n**0.5) + 1):\n",
    "        if n % i == 0:\n",
    "            return False\n",
    "    return True\n",
    "print(is_prime_optimized1(9))\n",
    "print(is_prime_optimized1(23))"
   ]
  },
  {
   "cell_type": "markdown",
   "id": "557d7cf5",
   "metadata": {},
   "source": [
    "## Factorial"
   ]
  },
  {
   "cell_type": "code",
   "execution_count": 15,
   "id": "6edfb16d",
   "metadata": {},
   "outputs": [
    {
     "name": "stdout",
     "output_type": "stream",
     "text": [
      "Factorial of 7 is = 5040\n"
     ]
    }
   ],
   "source": [
    "num = 7\n",
    "factorial = 1\n",
    "\n",
    "# check if the number is negative, positive or zero\n",
    "if num < 0:\n",
    "    print(\"Sorry, factorial does not exist for negative numbers\")\n",
    "elif num == 0:\n",
    "    print(\"The factorial of 0 is 1\")\n",
    "else:\n",
    "    for i in range(1,num + 1):\n",
    "        factorial = factorial*i\n",
    "    print(\"Factorial of\",num,\"is =\",factorial)"
   ]
  },
  {
   "cell_type": "code",
   "execution_count": 16,
   "id": "dd6bc539",
   "metadata": {},
   "outputs": [
    {
     "name": "stdout",
     "output_type": "stream",
     "text": [
      "Factorial of 7 is = 5040\n"
     ]
    }
   ],
   "source": [
    "num = 7\n",
    "fact = 1\n",
    "for i in range(1,num + 1):\n",
    "    fact = fact*i\n",
    "print(\"Factorial of\",num,\"is =\",fact)"
   ]
  },
  {
   "cell_type": "code",
   "execution_count": 17,
   "id": "3af39b47",
   "metadata": {},
   "outputs": [
    {
     "name": "stdout",
     "output_type": "stream",
     "text": [
      "The factorial of 7 is 5040\n"
     ]
    }
   ],
   "source": [
    "def factorial(x):\n",
    "    \"\"\"This is a recursive function\n",
    "    to find the factorial of an integer\"\"\"\n",
    "    if x == 1:\n",
    "        return 1\n",
    "    else:\n",
    "        # recursive call to the function\n",
    "        return (x * factorial(x-1))\n",
    "\n",
    "\n",
    "result = factorial(7)\n",
    "print(\"The factorial of\", num, \"is\", result)"
   ]
  },
  {
   "cell_type": "markdown",
   "id": "31d530d6",
   "metadata": {},
   "source": [
    "## Fibonacci"
   ]
  },
  {
   "cell_type": "code",
   "execution_count": 18,
   "id": "64d4651e",
   "metadata": {},
   "outputs": [
    {
     "name": "stdout",
     "output_type": "stream",
     "text": [
      "Fibonacci Series: 0 1 1 2 3 5 8 13 21 34 "
     ]
    }
   ],
   "source": [
    "num = 10\n",
    "n1, n2 = 0, 1\n",
    "print(\"Fibonacci Series:\", n1, n2, end=\" \")\n",
    "for i in range(2, num):\n",
    "    n3 = n1 + n2\n",
    "    n1 = n2\n",
    "    n2 = n3\n",
    "    print(n3, end=\" \")\n"
   ]
  },
  {
   "cell_type": "markdown",
   "id": "f9affa32",
   "metadata": {},
   "source": [
    "## Min - Max Number check (Combined)"
   ]
  },
  {
   "cell_type": "code",
   "execution_count": 19,
   "id": "0c490318",
   "metadata": {},
   "outputs": [
    {
     "name": "stdout",
     "output_type": "stream",
     "text": [
      "Minimum value: 2\n",
      "Maximum value: 49\n"
     ]
    }
   ],
   "source": [
    "arr = [3, 5, 2, 49, 8, 7, 9, 4, 6, 14, 48]\n",
    "\n",
    "# Initialize min and max values with the first element of the array\n",
    "min_value = arr[0]\n",
    "max_value = arr[0]\n",
    "\n",
    "# Iterate through the array to find min and max values\n",
    "for num in arr[1:]:\n",
    "    if num < min_value:\n",
    "        min_value = num\n",
    "    elif num > max_value:\n",
    "        max_value = num\n",
    "\n",
    "print(\"Minimum value:\", min_value)\n",
    "print(\"Maximum value:\", max_value)\n"
   ]
  },
  {
   "cell_type": "markdown",
   "id": "af101198",
   "metadata": {},
   "source": [
    "## Odd - Even number check"
   ]
  },
  {
   "cell_type": "code",
   "execution_count": 20,
   "id": "f7c02712",
   "metadata": {},
   "outputs": [
    {
     "name": "stdout",
     "output_type": "stream",
     "text": [
      "True\n",
      "False\n"
     ]
    }
   ],
   "source": [
    "def is_odd(num):\n",
    "    return num % 2 != 0\n",
    "\n",
    "# Test the function\n",
    "print(is_odd(5))  # True\n",
    "print(is_odd(6))  # False\n"
   ]
  },
  {
   "cell_type": "code",
   "execution_count": 21,
   "id": "493e6792",
   "metadata": {},
   "outputs": [
    {
     "name": "stdout",
     "output_type": "stream",
     "text": [
      "False\n",
      "True\n"
     ]
    }
   ],
   "source": [
    "def is_even(num):\n",
    "    return num % 2 == 0\n",
    "\n",
    "# Test the function\n",
    "print(is_even(5))  # False\n",
    "print(is_even(6))  # True"
   ]
  },
  {
   "cell_type": "markdown",
   "id": "3fc1437c",
   "metadata": {},
   "source": [
    "## Get counts of elements in list"
   ]
  },
  {
   "cell_type": "code",
   "execution_count": 22,
   "id": "b47fff53",
   "metadata": {},
   "outputs": [
    {
     "name": "stdout",
     "output_type": "stream",
     "text": [
      "{1: 2, 2: 2, 3: 2, 4: 1, 5: 3}\n"
     ]
    }
   ],
   "source": [
    "def get_counts(arr):\n",
    "    counts = {}\n",
    "    for num in arr:\n",
    "        if num in counts:\n",
    "            counts[num] += 1\n",
    "        else:\n",
    "            counts[num] = 1\n",
    "    return counts\n",
    "\n",
    "# Example usage\n",
    "arr = [1, 2, 3, 4, 2, 3, 1, 5, 5, 5]\n",
    "counts = get_counts(arr)\n",
    "print(counts)"
   ]
  },
  {
   "cell_type": "markdown",
   "id": "345c1e0b",
   "metadata": {},
   "source": [
    "## Add 1 if element repeats in list"
   ]
  },
  {
   "cell_type": "code",
   "execution_count": 23,
   "id": "962ad4f7",
   "metadata": {},
   "outputs": [
    {
     "name": "stdout",
     "output_type": "stream",
     "text": [
      "[1, 2, 3, 4, 3, 4, 2, 5, 6, 6]\n"
     ]
    }
   ],
   "source": [
    "def add_one_to_repeating(arr):\n",
    "    counts = {}\n",
    "    for i in range(len(arr)):\n",
    "        if arr[i] in counts:\n",
    "            arr[i] += 1\n",
    "        else:\n",
    "            counts[arr[i]] = 1\n",
    "    return arr\n",
    "\n",
    "# Example usage\n",
    "arr = [1, 2, 3, 4, 2, 3, 1, 5, 5, 5]\n",
    "result = add_one_to_repeating(arr)\n",
    "print(result)\n"
   ]
  },
  {
   "cell_type": "markdown",
   "id": "7cd23323",
   "metadata": {},
   "source": [
    "## Print ODD Numbers"
   ]
  },
  {
   "cell_type": "code",
   "execution_count": 24,
   "id": "c77fe767",
   "metadata": {},
   "outputs": [
    {
     "data": {
      "text/plain": [
       "[1, 3, 5, 7, 9, 11, 13, 15, 17, 19, 21, 23, 25, 27, 29]"
      ]
     },
     "execution_count": 24,
     "metadata": {},
     "output_type": "execute_result"
    }
   ],
   "source": [
    "odd_numbers = [x for x in range(1,30) if x%2!=0]\n",
    "odd_numbers"
   ]
  },
  {
   "cell_type": "markdown",
   "id": "4ae6c0d9",
   "metadata": {},
   "source": [
    "## Print Prime Numbers"
   ]
  },
  {
   "cell_type": "code",
   "execution_count": 25,
   "id": "060255e8",
   "metadata": {},
   "outputs": [
    {
     "data": {
      "text/plain": [
       "[2, 3, 5, 7, 11, 13, 17, 19, 23, 29]"
      ]
     },
     "execution_count": 25,
     "metadata": {},
     "output_type": "execute_result"
    }
   ],
   "source": [
    "prime_numbers = [num for num in range(2, 30+1) if num > 1 and all(num % i != 0 for i in range(2, int(num**0.5) + 1))]\n",
    "prime_numbers"
   ]
  },
  {
   "cell_type": "markdown",
   "id": "b301405b",
   "metadata": {},
   "source": [
    "## Write a Python function to check if two strings have the \n",
    "### same characters (ignoring the order of characters)\n",
    "### without using any inbuit function or library"
   ]
  },
  {
   "cell_type": "code",
   "execution_count": 26,
   "id": "99771404",
   "metadata": {},
   "outputs": [
    {
     "name": "stdout",
     "output_type": "stream",
     "text": [
      "The strings have the same characters.\n"
     ]
    }
   ],
   "source": [
    "def check_same_characters(str1, str2):\n",
    "    if len(str1) != len(str2):\n",
    "        return False\n",
    "    for char in str1:\n",
    "        if str1.count(char) != str2.count(char):\n",
    "            return False\n",
    "    return True\n",
    "\n",
    "# Example usage\n",
    "string1 = \"abb\"\n",
    "string2 = \"bab\"\n",
    "\n",
    "if check_same_characters(string1, string2):\n",
    "    print(\"The strings have the same characters.\")\n",
    "else:\n",
    "    print(\"The strings do not have the same characters.\")\n"
   ]
  },
  {
   "cell_type": "markdown",
   "id": "b56f4a71",
   "metadata": {},
   "source": [
    "### Happy Number Check"
   ]
  },
  {
   "cell_type": "code",
   "execution_count": 27,
   "id": "26d165e6",
   "metadata": {},
   "outputs": [
    {
     "name": "stdout",
     "output_type": "stream",
     "text": [
      "19 is happy?\n",
      "True\n"
     ]
    }
   ],
   "source": [
    "class HappyNumber:\n",
    "    def is_happy(self, n):\n",
    "        seen = set()\n",
    "        while n != 1 and n not in seen:\n",
    "            seen.add(n)\n",
    "            n = sum(int(digit) ** 2 for digit in str(n))\n",
    "        return n == 1\n",
    "\n",
    "# Example usage\n",
    "number = 19\n",
    "happy_checker = HappyNumber()\n",
    "is_happy_number = happy_checker.is_happy(number)\n",
    "print(f\"{number} is happy?\\n{is_happy_number}\")\n"
   ]
  },
  {
   "cell_type": "markdown",
   "id": "ab5a492b",
   "metadata": {},
   "source": [
    "## -----------------"
   ]
  },
  {
   "cell_type": "markdown",
   "id": "f9435139",
   "metadata": {},
   "source": [
    "## Decorators, Iterators, Generators\n",
    "1. **Decorators:**\n",
    "   - Decorators are functions that modify the behavior of other functions or methods.\n",
    "   - They are commonly used for logging, timing, authentication, etc."
   ]
  },
  {
   "cell_type": "markdown",
   "id": "c2a21705",
   "metadata": {},
   "source": [
    "#### Using @"
   ]
  },
  {
   "cell_type": "code",
   "execution_count": 28,
   "id": "e1f7382d",
   "metadata": {},
   "outputs": [
    {
     "name": "stdout",
     "output_type": "stream",
     "text": [
      "Something is happening before the function is called.\n",
      "Hello!\n",
      "Something is happening after the function is called.\n"
     ]
    }
   ],
   "source": [
    "def my_decorator(func):\n",
    "    def wrapper():\n",
    "        print(\"Something is happening before the function is called.\")\n",
    "        func()\n",
    "        print(\"Something is happening after the function is called.\")\n",
    "    return wrapper\n",
    "\n",
    "@my_decorator\n",
    "def say_hello():\n",
    "    print(\"Hello!\")\n",
    "\n",
    "say_hello()"
   ]
  },
  {
   "cell_type": "markdown",
   "id": "67afdea6",
   "metadata": {},
   "source": [
    "#### Calling in function as argument"
   ]
  },
  {
   "cell_type": "code",
   "execution_count": 29,
   "id": "7dd26f2b",
   "metadata": {},
   "outputs": [
    {
     "name": "stdout",
     "output_type": "stream",
     "text": [
      "Something is happening before the function is called.\n",
      "Hello!\n",
      "Something is happening after the function is called.\n"
     ]
    }
   ],
   "source": [
    "def my_decorator(func):\n",
    "    def wrapper():\n",
    "        print(\"Something is happening before the function is called.\")\n",
    "        func()\n",
    "        print(\"Something is happening after the function is called.\")\n",
    "    return wrapper\n",
    "\n",
    "def say_hello():\n",
    "    print(\"Hello!\")\n",
    "\n",
    "decorated_function = my_decorator(say_hello)\n",
    "decorated_function()"
   ]
  },
  {
   "cell_type": "markdown",
   "id": "0d28f492",
   "metadata": {},
   "source": [
    "2. **Iterators:**\n",
    "   - Iterators are objects that implement the iterator protocol, consisting of the `__iter__` and `__next__` methods.\n",
    "   - They are used to iterate over a sequence of elements.\n"
   ]
  },
  {
   "cell_type": "code",
   "execution_count": 30,
   "id": "8686e427",
   "metadata": {},
   "outputs": [
    {
     "name": "stdout",
     "output_type": "stream",
     "text": [
      "1\n",
      "2\n",
      "3\n"
     ]
    }
   ],
   "source": [
    "class MyIterator:\n",
    "    def __init__(self, max_num):\n",
    "        self.max_num = max_num\n",
    "        self.current = 0\n",
    "\n",
    "    def __iter__(self):\n",
    "        return self\n",
    "\n",
    "    def __next__(self):\n",
    "        if self.current < self.max_num:\n",
    "            self.current += 1\n",
    "            return self.current\n",
    "        else:\n",
    "            raise StopIteration\n",
    "\n",
    "my_iterator = MyIterator(3)\n",
    "for num in my_iterator:\n",
    "    print(num)"
   ]
  },
  {
   "cell_type": "markdown",
   "id": "865b954c",
   "metadata": {},
   "source": [
    "3. **Generators:**\n",
    "   - Generators are a simpler way to create iterators using the `yield` keyword.\n",
    "   - They allow you to iterate over a sequence of values without needing to implement the iterator protocol manually.\n",
    "\n",
    "    Generators are often more concise and readable than iterator classes, especially for simple iteration tasks.\n"
   ]
  },
  {
   "cell_type": "code",
   "execution_count": 31,
   "id": "b7bfd015",
   "metadata": {},
   "outputs": [
    {
     "name": "stdout",
     "output_type": "stream",
     "text": [
      "1\n",
      "2\n",
      "3\n"
     ]
    }
   ],
   "source": [
    "def my_generator(max_num):\n",
    "    current = 1\n",
    "    while current <= max_num:\n",
    "        yield current\n",
    "        current += 1\n",
    "\n",
    "for num in my_generator(3):\n",
    "    print(num)"
   ]
  },
  {
   "cell_type": "code",
   "execution_count": 32,
   "id": "63053d31",
   "metadata": {},
   "outputs": [
    {
     "name": "stdout",
     "output_type": "stream",
     "text": [
      "1\n",
      "2\n",
      "3\n"
     ]
    }
   ],
   "source": [
    "a = my_generator(4)\n",
    "print(next(a))\n",
    "print(next(a))\n",
    "print(next(a))"
   ]
  },
  {
   "cell_type": "markdown",
   "id": "19d4c0db",
   "metadata": {},
   "source": [
    "## Explain *args and **kwargs"
   ]
  },
  {
   "cell_type": "markdown",
   "id": "94be5f97",
   "metadata": {},
   "source": [
    "In Python, `*args` and `**kwargs` allow you to pass a variable number of arguments to a function. Here are simple code examples to illustrate their usage:\n",
    "\n",
    "Using both `*args`(Positional Arguments) and `**kwargs`(Keyword Arguments):\n",
    "\n",
    "\n",
    "In these examples, `*args` collects positional arguments into a tuple, and `**kwargs` collects keyword arguments into a dictionary. This allows the function to accept a variable number of arguments, making it more flexible."
   ]
  },
  {
   "cell_type": "code",
   "execution_count": 33,
   "id": "2992dd69",
   "metadata": {},
   "outputs": [
    {
     "name": "stdout",
     "output_type": "stream",
     "text": [
      "<class 'tuple'>\n",
      "<class 'dict'>\n",
      "**************************************************\n",
      "Hello\n",
      "World\n",
      "**************************************************\n",
      "name: Alice , (<class 'str'>)\n",
      "age: 30 , (<class 'int'>)\n",
      "city: NYC , (<class 'str'>)\n"
     ]
    }
   ],
   "source": [
    "def example_function(*args, **kwargs):\n",
    "    print(type(args))   # Output: <class 'tuple'>\n",
    "    print(type(kwargs)) # Output: <class 'dict'>\n",
    "    print('*'*50)\n",
    "    for arg in args:\n",
    "        print(arg)\n",
    "    print('*'*50)\n",
    "    # Subtypes of **kwargs\n",
    "    for key, value in kwargs.items():\n",
    "        print(f\"{key}: {value} , ({type(value)})\")\n",
    "\n",
    "# Using *args and **kwargs in function call\n",
    "example_function('Hello', 'World', name='Alice', age=30, city='NYC')"
   ]
  },
  {
   "cell_type": "code",
   "execution_count": null,
   "id": "a6c4ad75",
   "metadata": {},
   "outputs": [],
   "source": []
  }
 ],
 "metadata": {
  "kernelspec": {
   "display_name": "Python 3 (ipykernel)",
   "language": "python",
   "name": "python3"
  },
  "language_info": {
   "codemirror_mode": {
    "name": "ipython",
    "version": 3
   },
   "file_extension": ".py",
   "mimetype": "text/x-python",
   "name": "python",
   "nbconvert_exporter": "python",
   "pygments_lexer": "ipython3",
   "version": "3.11.5"
  }
 },
 "nbformat": 4,
 "nbformat_minor": 5
}
